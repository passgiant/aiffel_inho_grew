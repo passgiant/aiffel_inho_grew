{
  "nbformat": 4,
  "nbformat_minor": 0,
  "metadata": {
    "colab": {
      "provenance": [],
      "include_colab_link": true
    },
    "kernelspec": {
      "name": "python3",
      "display_name": "Python 3"
    },
    "language_info": {
      "name": "python"
    }
  },
  "cells": [
    {
      "cell_type": "markdown",
      "metadata": {
        "id": "view-in-github",
        "colab_type": "text"
      },
      "source": [
        "<a href=\"https://colab.research.google.com/github/penguinhouse/aiffel/blob/main/workplace/Quest_01/Quset01_%ED%9A%8C%EB%AC%B8.ipynb\" target=\"_parent\"><img src=\"https://colab.research.google.com/assets/colab-badge.svg\" alt=\"Open In Colab\"/></a>"
      ]
    },
    {
      "cell_type": "code",
      "execution_count": null,
      "metadata": {
        "id": "KgECGxyDDRw7"
      },
      "outputs": [],
      "source": [
        "# [퀘스트 1] 회문인지 아닌지 확인하는 프로그램\n",
        "# 회문이란?\n",
        "# 앞에서부터 읽어도 뒤에서부터 읽어도 같은 단어, 구, 문장, 숫자, 혹은 문단\n",
        "\n",
        "#  조건\n",
        "# 단어(string)를 입력받을 수 있게 한다.\n",
        "# 자료형에 대한 이해가 부족하다면? 검색 혹은 노드 확인!!\n",
        "# 입력된 단어를 뒤집어서 출력할 수 있게 한다.\n",
        "# 입력된 단어가 회문이 맞는지 확인하여 출력할 수 있게 한다.\n",
        "# 자료형, 제어문, 함수를 활용한다.\n"
      ]
    },
    {
      "cell_type": "code",
      "source": [
        "# 리스트 슬라이스로 작성\n",
        "word = input('단어를 입력해주세요.')\n",
        "print(word == word[::-1])"
      ],
      "metadata": {
        "colab": {
          "base_uri": "https://localhost:8080/"
        },
        "id": "4usqYHYcDv2Y",
        "outputId": "129b4fc2-fc07-4b18-a64e-1480eed4dd65"
      },
      "execution_count": null,
      "outputs": [
        {
          "output_type": "stream",
          "name": "stdout",
          "text": [
            "단어를 입력해주세요.오리 리오\n",
            "True\n"
          ]
        }
      ]
    },
    {
      "cell_type": "code",
      "source": [
        "# join 메서드와 reversed 사용\n",
        "word = input('단어를 입력해주세요.')\n",
        "word == ''.join(reversed(word))"
      ],
      "metadata": {
        "colab": {
          "base_uri": "https://localhost:8080/"
        },
        "id": "MDHjaWUPDv5G",
        "outputId": "32b98aa0-54e1-4854-9173-8d6eaa45735b"
      },
      "execution_count": null,
      "outputs": [
        {
          "name": "stdout",
          "output_type": "stream",
          "text": [
            "단어를 입력해주세요.level\n"
          ]
        },
        {
          "output_type": "execute_result",
          "data": {
            "text/plain": [
              "True"
            ]
          },
          "metadata": {},
          "execution_count": 2
        }
      ]
    },
    {
      "cell_type": "code",
      "source": [
        "word = input('단어를 입력하세요')\n",
        "\n",
        "is_pd = True                               # 회문 판별값을 저장할 변수, 초깃값은 True\n",
        "for i in range(len(word) // 2):            # 0부터 문자열 길이의 절반만큰 반복\n",
        "    if word[i] != word[-1 - i]:            # 왼쪽 문자와 오른쪽 문자를 비교하여 문자가 다르면\n",
        "        is_pd = False                      # 회문이 아님\n",
        "        break\n",
        "\n",
        "print(is_pd)                               # 회문 판별값 출력"
      ],
      "metadata": {
        "id": "Yqy5j7i7DwFY",
        "colab": {
          "base_uri": "https://localhost:8080/"
        },
        "outputId": "49254086-affc-4fd1-ab21-e3b06a0ad76f"
      },
      "execution_count": null,
      "outputs": [
        {
          "output_type": "stream",
          "name": "stdout",
          "text": [
            "단어를 입력하세요level\n",
            "True\n"
          ]
        }
      ]
    },
    {
      "cell_type": "code",
      "source": [
        "\n",
        "n=int(input('숫자를 입력하세요'))               # 테스트 횟수\n",
        "for i in range(n):\n",
        "    str=input()              # 입력을 받고\n",
        "    str=str.upper()\n",
        "    if str==str[::-1]:       # 슬라이스로 회문 판별\n",
        "        print(\"#%d YES\" %i)\n",
        "    else:\n",
        "        print(\"#%d NO\" %i)\n",
        "        break"
      ],
      "metadata": {
        "id": "_nfYMDs2DwIF",
        "colab": {
          "base_uri": "https://localhost:8080/"
        },
        "outputId": "3316bd99-337a-4f04-f4f1-d31f9cfca613"
      },
      "execution_count": null,
      "outputs": [
        {
          "output_type": "stream",
          "name": "stdout",
          "text": [
            "숫자를 입력하세요1221\n",
            "\n",
            "#0 YES\n",
            "level\n",
            "#1 YES\n"
          ]
        }
      ]
    },
    {
      "cell_type": "code",
      "source": [],
      "metadata": {
        "id": "B8lraz_gDwKy"
      },
      "execution_count": null,
      "outputs": []
    },
    {
      "cell_type": "markdown",
      "source": [
        "회고\n",
        "\n",
        "우선 이번 Quest를 통해 배운 점이 있다면 무엇보다 코딩에 대한 두려움을 거둬냈다는데 있을 것이다. 코딩이 처음이라서 막막하고 어디서 어떻게 시작해야 하나 걱정이 앞섰는데 검색해보고 적용해 보고 오류를 거둬내보고 해보니 아~ 더디어도 이렇게 가면 되겠구나 하는 자신감이 생겼다.\n",
        "시간이 부족해 뭔가 부족한 듯한 느낌을 지울 수는 없지만..할 수 있겠구나 하는 마음만으로도 만족한다.\n"
      ],
      "metadata": {
        "id": "1cu-ZtLj8TiO"
      }
    },
    {
      "cell_type": "code",
      "source": [],
      "metadata": {
        "id": "pK_NGqYVDwNh"
      },
      "execution_count": null,
      "outputs": []
    },
    {
      "cell_type": "code",
      "source": [],
      "metadata": {
        "id": "c6Dimw2mDwQC"
      },
      "execution_count": null,
      "outputs": []
    },
    {
      "cell_type": "code",
      "source": [],
      "metadata": {
        "id": "wGl3AL7bDwSo"
      },
      "execution_count": null,
      "outputs": []
    },
    {
      "cell_type": "code",
      "source": [],
      "metadata": {
        "id": "ui86VNA4DwVP"
      },
      "execution_count": null,
      "outputs": []
    },
    {
      "cell_type": "code",
      "source": [],
      "metadata": {
        "id": "zYLGOB1UDxBN"
      },
      "execution_count": null,
      "outputs": []
    },
    {
      "cell_type": "code",
      "source": [],
      "metadata": {
        "id": "vb67BotRDxD_"
      },
      "execution_count": null,
      "outputs": []
    },
    {
      "cell_type": "code",
      "source": [],
      "metadata": {
        "id": "GG_2GEpRDxGz"
      },
      "execution_count": null,
      "outputs": []
    }
  ]
}